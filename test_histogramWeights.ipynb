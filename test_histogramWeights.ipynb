{
 "cells": [
  {
   "cell_type": "markdown",
   "id": "65c913f4",
   "metadata": {},
   "source": [
    "# Tutorial for interactive histogramming\n",
    "* imoprt libraries\n",
    "* generate random data source ABCD uniform\n",
    "* create figure layout and histogram aray\n",
    "* simple hstogramming\n",
    "* histogramming with table\n",
    "* histogramming with weights"
   ]
  },
  {
   "cell_type": "code",
   "execution_count": null,
   "id": "468f194c",
   "metadata": {},
   "outputs": [],
   "source": [
    "from RootInteractive.InteractiveDrawing.bokeh.bokehDrawSA import bokehDrawSA\n",
    "from RootInteractive.Tools.pandaTools import initMetadata\n",
    "from RootInteractive.InteractiveDrawing.bokeh.bokehInteractiveTemplate import getDefaultVarsRefWeights\n",
    "from RootInteractive.Tools.compressArray import arrayCompressionRelative16\n",
    "from RootInteractive.InteractiveDrawing.bokeh.bokehTools import mergeFigureArrays\n",
    "from IPython.core.display import display, HTML\n",
    "display(HTML(\"<style>.container { width:100% !important; }</style>\"))"
   ]
  },
  {
   "cell_type": "code",
   "execution_count": null,
   "id": "749bc9e5",
   "metadata": {},
   "outputs": [],
   "source": [
    "from bokeh.io import output_notebook, output_file\n",
    "output_notebook()"
   ]
  },
  {
   "cell_type": "code",
   "execution_count": null,
   "id": "332c4873",
   "metadata": {},
   "outputs": [],
   "source": [
    "import numpy as np\n",
    "import pandas as pd"
   ]
  },
  {
   "cell_type": "markdown",
   "id": "74c547b6",
   "metadata": {},
   "source": [
    "# generate random data source ABCD uniform\n",
    "* TODO: Use a more realistic example\n",
    "* anotating data with metadata\n",
    "* e.g axisTitle:\n",
    "   * \"'A.AxisTitle': \"A (cm)\"\n",
    "* here we will put link to github to see list of option"
   ]
  },
  {
   "cell_type": "code",
   "execution_count": null,
   "id": "9065abb3",
   "metadata": {},
   "outputs": [],
   "source": [
    "df = pd.DataFrame(np.random.random_sample(size=(40000, 4)), columns=list('ABCD'))\n",
    "initMetadata(df)\n",
    "\n",
    "mapDDC={0:\"A0\",1:\"A1\",2:\"A2\",3:\"A3\",4:\"A4\"}\n",
    "df.eval(\"Bool=A>0.5\", inplace=True)\n",
    "df.eval(\"BoolB=B>0.5\", inplace=True)\n",
    "df[\"AA\"]=((df.A*10).round(0)).astype(pd.CategoricalDtype(ordered=True))\n",
    "df[\"CC\"]=((df.C*5).round(0)).astype(int)\n",
    "df[\"DD\"]=((df.D*4).round(0)).astype(int)\n",
    "df[\"DDC\"]=((df.D*4).round(0)).astype(int).map(mapDDC)\n",
    "df['errY']=df.A*0.02+0.02\n",
    "df.head(10)\n",
    "df.meta.metaData = {'A.AxisTitle': \"A (cm)\", 'B.AxisTitle': \"B (cm)\", 'C.AxisTitle': \"C (s)\",\n",
    "                    'D.AxisTitle': \"D (cm)\", 'Bool.AxisTitle': \"A>half\"}"
   ]
  },
  {
   "cell_type": "code",
   "execution_count": null,
   "id": "d98ed0a1",
   "metadata": {},
   "outputs": [],
   "source": []
  },
  {
   "cell_type": "markdown",
   "id": "6187f1eb",
   "metadata": {},
   "source": [
    "# Use template for histogram with weights"
   ]
  },
  {
   "cell_type": "code",
   "execution_count": null,
   "id": "5c2a8cda",
   "metadata": {},
   "outputs": [],
   "source": [
    "aliasArray, jsFunctionArray, variables, parameterArray, widgetParams, widgetLayoutDesc, histoArray, figureArray, figureLayoutDesc = getDefaultVarsRefWeights(variables=[\"A\", \"B\", \"C\", \"D\", \"A*A\", \"A*A+B\", \"B/(1+C)\", \"A+B\", \"A-B\"])\n",
    "aliasArray.append((\"multiSelectBitmask\", \"(A+B>0.5) + (A+B<1) * 2 + (A-B > -0.5) * 4 + (A-B < 0.5) * 8\"))\n",
    "widgetsSelect = [\n",
    "    ['range', ['A'], {\"name\":\"A\"}],\n",
    "    ['range', ['B'], {\"name\":\"B\"}],\n",
    "    ['range', ['C'], {\"name\":\"C\"}],\n",
    "    ['range', ['D'], {\"name\":\"D\"}],\n",
    "    ['multiSelectBitmask', ['multiSelectBitmask'], {\"name\":\"multiSelectAll\", \"mapping\":{\"A+B>0.5\":1,\"A+B<1\":2,\"A-B>-0.5\":4,\"A-B<0.5\":8}, \"title\":\"bitmask(any)\", \"how\":\"any\"}],\n",
    "    ['multiSelectBitmask', ['multiSelectBitmask'], {\"name\":\"multiSelectAny\", \"mapping\":{\"A+B>0.5\":1,\"A+B<1\":2,\"A-B>-0.5\":4,\"A-B<0.5\":8}, \"title\":\"bitmask(all)\", \"how\":\"all\"}]\n",
    "    ]\n",
    "widgetParams = mergeFigureArrays(widgetParams, widgetsSelect)\n",
    "widgetLayoutDesc[\"Select\"] = [[\"A\",\"B\"],[\"C\",\"D\"],[\"multiSelectAll\",\"multiSelectAny\"]]\n"
   ]
  },
  {
   "cell_type": "code",
   "execution_count": null,
   "id": "c1a46a4d",
   "metadata": {},
   "outputs": [],
   "source": [
    "# Draw histograms"
   ]
  },
  {
   "cell_type": "code",
   "execution_count": null,
   "id": "3b319ece",
   "metadata": {},
   "outputs": [],
   "source": [
    "output_file(\"/data/ivanov_marian/test_histogramWeights.html\")\n",
    "bokehDrawSA.fromArray(df, None, figureArray, widgetParams, layout=figureLayoutDesc, parameterArray=parameterArray,\n",
    "                      widgetLayout=widgetLayoutDesc, sizing_mode=\"scale_width\", histogramArray=histoArray, aliasArray=aliasArray,\n",
    "                      jsFunctionArray=jsFunctionArray)\n"
   ]
  },
  {
   "cell_type": "code",
   "execution_count": null,
   "id": "8cb0572e",
   "metadata": {},
   "outputs": [],
   "source": [
    "# Compare with compressed"
   ]
  },
  {
   "cell_type": "code",
   "execution_count": null,
   "id": "7c0ab9ff",
   "metadata": {},
   "outputs": [],
   "source": [
    "output_file(\"/data/ivanov_marian/test_histogramWeights.html_compressed\")\n",
    "bokehDrawSA.fromArray(df, None, figureArray, widgetParams, layout=figureLayoutDesc, parameterArray=parameterArray, arrayCompression=arrayCompressionRelative16,\n",
    "                      widgetLayout=widgetLayoutDesc, sizing_mode=\"scale_width\", histogramArray=histoArray, aliasArray=aliasArray,\n",
    "                      jsFunctionArray=jsFunctionArray)"
   ]
  },
  {
   "cell_type": "code",
   "execution_count": null,
   "id": "8f3fb784",
   "metadata": {},
   "outputs": [],
   "source": []
  }
 ],
 "metadata": {
  "kernelspec": {
   "display_name": "Python 3 (ipykernel)",
   "language": "python",
   "name": "python3"
  },
  "language_info": {
   "codemirror_mode": {
    "name": "ipython",
    "version": 3
   },
   "file_extension": ".py",
   "mimetype": "text/x-python",
   "name": "python",
   "nbconvert_exporter": "python",
   "pygments_lexer": "ipython3",
   "version": "3.9.13"
  }
 },
 "nbformat": 4,
 "nbformat_minor": 5
}
