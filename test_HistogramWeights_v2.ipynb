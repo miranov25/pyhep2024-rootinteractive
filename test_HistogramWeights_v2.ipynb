{
 "cells": [
  {
   "cell_type": "markdown",
   "id": "65c913f4",
   "metadata": {},
   "source": [
    "# Tutorial for Interactive Data Aggregation Using the RootInteractive Template (for PyHEP 2024)\n",
    "\n",
    "In this tutorial, we will utilize the RootInteractive template function to generate a standalone client application—a dashboard for interactive data aggregation. Unbinned data will be transferred to the client, with all subsequent client-side aggregation performed in the browser. In typical use cases within the ALICE experiment, approximately 0-0.5 GB of compressed data (depending on the scope) is utilized. Such HTML dashboards are then appended to agendas for interactive browsing without the need for additional software installation.\n",
    "\n",
    "Data compression is applied not only in the dashboard's HTML file but also in memory. Only parts of the columns are cached/expanded to full size. Employing in-memory compression allows us to store a significant amount of data efficiently.\n",
    "\n",
    "The primary limitation is determined by the number of columns and rows expanded at any given moment. Using compressed data formats, such as 8-bit or 10-bit, enables extensive machine learning and multi-dimensional parameterization optimization studies with many alternative models (columns). It's feasible to load and interactively inspect approximately \\(10^7 \\times 20\\) expanded attributes in memory. The limiting factor is typically memory capacity.\n",
    "\n",
    "Lazy evaluation (caching) is recommended to reduce data volume. Utilizing JavaScript aliases, which are also lazily evaluated, is preferable. Integrated memory and CPU monitoring features are planned for future implementation.\n",
    "\n",
    "\n",
    "\n",
    "- **Import Libraries:** Import all necessary libraries required for the tutorial.\n",
    "- **Generate Random Columnar Data:** Generate a data source named 'ABCD' with a uniform distribution and add noise to it. Additionally, derive other variables from this data.\n",
    "- **Create Figure Layout and Histogram Array:** Establish the visual layout for data analysis including figure positioning and histogram configurations.\n",
    "- **Create Aliases:** Define functions that are evaluated on the client side to enhance interactivity.\n",
    "- **Define User-Defined Compression:** Implement a combination of lossy and lossless compression techniques to minimize the size of the dashboard in both the generated HTML file and in memory usage.\n",
    "- **Utilize Standard Template:** Employ a standard template to streamline the creation of the interactive dashboard and example of futerh extension in user code\n",
    "\n",
    "Additional Resources:\n",
    "- **Bokeh Interactive Templates:** Multiple dashboard templates are available in `bokehInteractiveTemplates` to simplify dashboard creation by minimizing repetitive coding. Explore these templates to find the most suitable one for your needs.\n",
    "- **Detailed Template Documentation:** For a comprehensive understanding of how to configure interactive data aggregation at a lower level, refer to our detailed documentation [here](https://github.com/miranov25/RootInteractive/blob/master/RootInteractive/InteractiveDrawing/bokeh/doc/READMEtemplate.md).\n",
    "- **Further Documentation:** For more in-depth details about the configuration of interactive data aggregation, visit our full documentation [here](https://github.com/miranov25/RootInteractive/tree/master/RootInteractive/InteractiveDrawing/bokeh/doc).\n"
   ]
  },
  {
   "cell_type": "code",
   "execution_count": null,
   "id": "468f194c",
   "metadata": {},
   "outputs": [],
   "source": [
    "from RootInteractive.InteractiveDrawing.bokeh.bokehDrawSA import bokehDrawSA\n",
    "from RootInteractive.Tools.pandaTools import initMetadata\n",
    "from RootInteractive.InteractiveDrawing.bokeh.bokehInteractiveTemplate import getDefaultVarsRefWeights\n",
    "from RootInteractive.Tools.compressArray import arrayCompressionRelative16\n",
    "from RootInteractive.InteractiveDrawing.bokeh.bokehTools import mergeFigureArrays\n",
    "from IPython.core.display import display, HTML\n",
    "display(HTML(\"<style>.container { width:100% !important; }</style>\"))"
   ]
  },
  {
   "cell_type": "code",
   "execution_count": null,
   "id": "749bc9e5",
   "metadata": {},
   "outputs": [],
   "source": [
    "from bokeh.io import output_notebook, output_file\n",
    "output_notebook()\n",
    "outputPrefix=\"\""
   ]
  },
  {
   "cell_type": "code",
   "execution_count": null,
   "id": "332c4873",
   "metadata": {},
   "outputs": [],
   "source": [
    "import numpy as np\n",
    "import pandas as pd"
   ]
  },
  {
   "cell_type": "markdown",
   "id": "74c547b6",
   "metadata": {},
   "source": [
    "## Generate Random Columnar Data\n",
    "Create a data source 'ABCD' with a uniform distribution and add noise.\n",
    "\n",
    "- **Generate Uniform Random Values:** Create a vector of uniform random values termed \"MC true.\"\n",
    "- **Emulate Measurement Noise:** Simulate real-world data by adding Gaussian noise to these values, which will later be used to define compression strategies.\n",
    "- **Add Categorical Data:** Include examples of categorical data - used for multiSelect\n",
    "- **Annotate Data with Metadata:** Attach metadata to the data to specify axis titles and variable description."
   ]
  },
  {
   "cell_type": "code",
   "execution_count": null,
   "id": "9065abb3",
   "metadata": {},
   "outputs": [],
   "source": [
    "df = pd.DataFrame(np.random.random_sample(size=(40000, 8)), columns=list('ABCDEFGH'))\n",
    "initMetadata(df)\n",
    "\n",
    "mapDDC={0:\"A0\",1:\"A1\",2:\"A2\",3:\"A3\",4:\"A4\"}\n",
    "df.eval(\"Bool=A>0.5\", inplace=True)\n",
    "df.eval(\"BoolB=B>0.5\", inplace=True)\n",
    "df[\"AA\"]=((df.A*10).round(0)).astype(pd.CategoricalDtype(ordered=True))\n",
    "\n",
    "df[\"CC\"]=((df.C*5).round(0)).astype(int)\n",
    "df[\"DD\"]=((df.D*4).round(0)).astype(int)\n",
    "df[\"DDC\"]=((df.D*4).round(0)).astype(int).map(mapDDC)\n",
    "df['errY']=df.A*0.02+0.02\n",
    "for col in [\"A\",\"B\",\"C\",\"D\",\"E\",\"F\",\"G\",\"H\"]:\n",
    "    df[f\"{col}M\"] = df[col] + np.random.normal(loc=0, scale=0.05, size=df.shape[0])\n",
    "df.meta.metaData = {'A.AxisTitle': \"A (cm)\", 'B.AxisTitle': \"B (cm)\", 'C.AxisTitle': \"C (s)\",\n",
    "                    'D.AxisTitle': \"D (cm)\", 'D.Description': \"variable\",\n",
    "                    'Bool.AxisTitle': \"A>half\",'Bool.Description': \"A bigger than 0.5\",\n",
    "                   }"
   ]
  },
  {
   "cell_type": "markdown",
   "id": "da8e003e",
   "metadata": {},
   "source": [
    "## Create Figure Layout and Histogram Array using example template function getDefaultVarsRefWeights\n",
    "Set up the visual representation for effective data analysis.\n",
    "\n",
    "- **Utilize Templates for Histograms and Aggregated Data:** Employ templates that support histograms and aggregated data with weights to streamline visualizations.\n",
    "- **Define Input and Derived Variables:** Specify input variables and create derived variables. These aliases are lazily evaluated on the client side using JavaScript for enhanced performance.\n",
    "- **Incorporate Client Function Aliases:** Append client-side function aliases that are also lazily evaluated to optimize interactions and processing.\n",
    "- **Expand Visualization Controls:** Enhance the user interface by extending widgets that control visualization aspects, allowing for more interactive and dynamic data exploration.\n",
    "- **Enhance Widget Layout:** Improve the layout of widgets to better accommodate user interactions and data display.\n",
    "- **Update Parameter Array:** Expand the parameter array to include default variables, ensuring a comprehensive setup for data manipulation and display."
   ]
  },
  {
   "cell_type": "code",
   "execution_count": null,
   "id": "5c2a8cda",
   "metadata": {},
   "outputs": [],
   "source": [
    "variables=df.columns.to_list()\n",
    "variables+=[ \"A*A\", \"A*A+B\", \"B/(1+C)\", \"A+B\", \"A-B\"]\n",
    "variables.sort()\n",
    "\n",
    "aliasArray, jsFunctionArray, variables, parameterArray, widgetParams, widgetLayoutDesc, histoArray, figureArray, figureLayoutDesc = getDefaultVarsRefWeights(variables=variables)\n",
    "aliasArray.append((\"multiSelectBitmask\", \"(A+B>0.5) + (A+B<1) * 2 + (A-B > -0.5) * 4 + (A-B < 0.5) * 8\"))\n",
    "widgetsSelect = [\n",
    "    ['range', ['A'], {\"name\":\"A\"}],\n",
    "    ['range', ['B'], {\"name\":\"B\"}],\n",
    "    ['range', ['C'], {\"name\":\"C\"}],\n",
    "    ['range', ['D'], {\"name\":\"D\"}],\n",
    "    #categorical data\n",
    "    [\"multiSelect\",[\"AA\"],{\"name\":\"AA\"}],\n",
    "    [\"multiSelect\",[\"CC\"],{\"name\":\"CC\"}],\n",
    "    [\"multiSelect\",[\"DD\"],{\"name\":\"DD\"}],\n",
    "    #\n",
    "    ['multiSelectBitmask', ['multiSelectBitmask'], {\"name\":\"multiSelectAll\", \"mapping\":{\"A+B>0.5\":1,\"A+B<1\":2,\"A-B>-0.5\":4,\"A-B<0.5\":8}, \"title\":\"bitmask(any)\", \"how\":\"any\"}],\n",
    "    ['multiSelectBitmask', ['multiSelectBitmask'], {\"name\":\"multiSelectAny\", \"mapping\":{\"A+B>0.5\":1,\"A+B<1\":2,\"A-B>-0.5\":4,\"A-B<0.5\":8}, \"title\":\"bitmask(all)\", \"how\":\"all\"}]\n",
    "    ]\n",
    "widgetParams = mergeFigureArrays(widgetParams, widgetsSelect)\n",
    "widgetLayoutDesc[\"Select\"] = [[\"A\",\"B\",\"C\",\"D\"],[\"AA\",\"CC\",\"multiSelectAll\",\"multiSelectAny\"]]\n",
    "#\n",
    "parameterArray+=[\n",
    "        {\"name\": \"varX\", \"value\":\"A+B\", \"options\":variables},\n",
    "        {\"name\": \"varY\", \"value\":\"A-B\", \"options\":variables},\n",
    "        {\"name\": \"varZ\", \"value\":\"AA\", \"options\":variables},\n",
    "        {\"name\": \"varYNorm\", \"value\":\"A+B\", \"options\":variables},\n",
    "        {\"name\": \"varZNorm\", \"value\":\"A\", \"options\":variables},\n",
    "]"
   ]
  },
  {
   "cell_type": "markdown",
   "id": "b459689e",
   "metadata": {},
   "source": [
    "## **Utilize and extend  Standard Template**\n",
    "Employ a standard template to streamline the creation of the interactive dashboard, with examples of future extensions in user code.\n",
    "- **Use Case Applications:** Typically, templates serve as an initial approximation in realistic scenarios, with the description array subsequently expanded for further customization.\n",
    "- **Examples:**\n",
    "  - **Inclusion of Additional Default Plots:** Add other default plots and histograms as needed.\n",
    "  - **Define User-Defined Parametric Functions:** Customize by defining parametric functions tailored to specific user requirements.\n"
   ]
  },
  {
   "cell_type": "code",
   "execution_count": null,
   "id": "0341d078",
   "metadata": {},
   "outputs": [],
   "source": [
    "from pprint import pprint\n",
    "pprint(\"aliasArray\")\n",
    "pprint(aliasArray)\n",
    "pprint(\"widgetParams\")\n",
    "pprint(widgetParams)"
   ]
  },
  {
   "cell_type": "markdown",
   "id": "ab1a94c2",
   "metadata": {},
   "source": [
    "## Draw Histograms from Template\n",
    "- **Output Storage:** The output is stored in a standalone dashboard as an HTML file.\n",
    "- **Data Volume Comparison:** In the subsequent example, we assess the data volume for the dashboard both with and without compression.\n",
    "  - **Initial Observation:** Initially, without compression, the output HTML size and browser memory usage are approximately five times larger than when compressed."
   ]
  },
  {
   "cell_type": "code",
   "execution_count": null,
   "id": "3b319ece",
   "metadata": {},
   "outputs": [],
   "source": [
    "output_file(f\"{outputPrefix}test_histogramWeights.html\")\n",
    "bokehDrawSA.fromArray(df, None, figureArray, widgetParams, layout=figureLayoutDesc, parameterArray=parameterArray,\n",
    "                      widgetLayout=widgetLayoutDesc, sizing_mode=\"scale_width\", histogramArray=histoArray, aliasArray=aliasArray,\n",
    "                      jsFunctionArray=jsFunctionArray)\n"
   ]
  },
  {
   "cell_type": "markdown",
   "id": "b7919500",
   "metadata": {},
   "source": [
    "## Define User-Defined Compression\n",
    "Implement a mix of lossy and lossless compression techniques to reduce the size of the dashboard in both the generated HTML file and in memory.\n",
    "- **Detailed Syntax and Description:** For a comprehensive understanding of the compression syntax, consult our [documentation on GitHub](https://github.com/miranov25/RootInteractive/blob/master/RootInteractive/InteractiveDrawing/bokeh/doc/READMEcompression.md).\n",
    "- **Example of Measured Data Compression (see cell below):** Data points identified by the regular expression `.*M` utilize 8-bit relative compression.\n",
    "- **Precision for Other Data Points:** All other floating-point data are stored with 10 bits of precision.\n",
    "- **Data Volume Reduction:** In the following example, there is a data volume reduction of about 20% in the HTML file.\n",
    "- **Use Case in the ALICE Experiment:** Compression reduces data volume by 10-20% in scenarios involving 20 to 200 columns, depending on the precision and data types.\n",
    "- **Client-Side Compression:** On the client side, similar compression techniques are employed, where lazy evaluation ensures that only cached columns are expanded, typically around 10 columns.\n",
    "\n",
    "####  For effective data volume management, the extensive use of lazily evaluated aliases on the client side is recommended."
   ]
  },
  {
   "cell_type": "code",
   "execution_count": null,
   "id": "1ca77f7d",
   "metadata": {},
   "outputs": [],
   "source": [
    "arrayCompression=[  \n",
    "        (\".*M\",[(\"relative\",8), (\"code\",0), (\"zip\",0)]),\n",
    "        (\".*.*\",[(\"relative\",10), (\"code\",0), (\"zip\",0)]),\n",
    "]"
   ]
  },
  {
   "cell_type": "code",
   "execution_count": null,
   "id": "7c0ab9ff",
   "metadata": {},
   "outputs": [],
   "source": [
    "output_file(f\"{outputPrefix}test_histogramWeights_compressed.html\")\n",
    "bokehDrawSA.fromArray(df, None, figureArray, widgetParams, layout=figureLayoutDesc, parameterArray=parameterArray, arrayCompression=arrayCompression,\n",
    "                      widgetLayout=widgetLayoutDesc, sizing_mode=\"scale_width\", histogramArray=histoArray, aliasArray=aliasArray,\n",
    "                      jsFunctionArray=jsFunctionArray)"
   ]
  },
  {
   "cell_type": "code",
   "execution_count": null,
   "id": "8f3fb784",
   "metadata": {},
   "outputs": [],
   "source": []
  },
  {
   "cell_type": "code",
   "execution_count": null,
   "id": "3feb56f5",
   "metadata": {},
   "outputs": [],
   "source": []
  }
 ],
 "metadata": {
  "kernelspec": {
   "display_name": "Python 3 (ipykernel)",
   "language": "python",
   "name": "python3"
  },
  "language_info": {
   "codemirror_mode": {
    "name": "ipython",
    "version": 3
   },
   "file_extension": ".py",
   "mimetype": "text/x-python",
   "name": "python",
   "nbconvert_exporter": "python",
   "pygments_lexer": "ipython3",
   "version": "3.9.6"
  }
 },
 "nbformat": 4,
 "nbformat_minor": 5
}
